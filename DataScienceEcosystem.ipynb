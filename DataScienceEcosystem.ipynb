{
 "cells": [
  {
   "cell_type": "markdown",
   "id": "fdde3018-eed4-45ba-b697-7901680009e3",
   "metadata": {},
   "source": [
    "# Data Science Tools and Ecosystem #\n"
   ]
  },
  {
   "cell_type": "markdown",
   "id": "47981454-4c4c-42aa-b4c0-ca6630fe141e",
   "metadata": {},
   "source": [
    "In this notebook, Data Science Tools and Ecosystem are summarized"
   ]
  },
  {
   "cell_type": "markdown",
   "id": "3b6596a5-e0d3-41ff-8e18-79a38d1ffb02",
   "metadata": {},
   "source": [
    "__Objectives:__\n",
    "In this Notebook we will:\n",
    "- List Popular languages for Data Science\n",
    "- List Commonly used libraries used by Data Scientist\n",
    "- Show a table of 3 popular open source development enviroment tools\n",
    "- Show a few examples of arithemic expressions in python"
   ]
  },
  {
   "cell_type": "markdown",
   "id": "d1d04147-968a-417a-a34d-0ea3578d93fe",
   "metadata": {},
   "source": [
    "Some of the popular languages that Data Scientist use are:\n",
    "1. Python\n",
    "2. R\n",
    "3. SQL\n",
    "4. Scala\n",
    "5. Java\n",
    "6. C++\n",
    "7. Julia"
   ]
  },
  {
   "cell_type": "markdown",
   "id": "521949ea-ad30-4d6a-a2f9-a500c47d27a8",
   "metadata": {},
   "source": [
    "Some of the commonly used libraries used by Data Scientists include:\n",
    "1. Pandas \n",
    "2. Numpy\n",
    "3. Matplotlib\n",
    "4. Seaborn\n",
    "5. Scikit-learn"
   ]
  },
  {
   "cell_type": "markdown",
   "id": "514d192f-c44d-4cf5-8740-ed571e2da4f5",
   "metadata": {},
   "source": [
    "|DataScience Tools|\n",
    "|     -----       |\n",
    "| Jupyter Notebooks |\n",
    "| Rstudio |\n",
    "| Apache Zepplin |"
   ]
  },
  {
   "cell_type": "markdown",
   "id": "33dd0eaa-e44a-4842-91d1-a551a665dec4",
   "metadata": {},
   "source": [
    "### Below are a few examples of evaluating arithemtic expression in python ###"
   ]
  },
  {
   "cell_type": "code",
   "execution_count": 1,
   "id": "becefdb5-8c39-409e-b9dd-7f83c8193105",
   "metadata": {},
   "outputs": [
    {
     "data": {
      "text/plain": [
       "17"
      ]
     },
     "execution_count": 1,
     "metadata": {},
     "output_type": "execute_result"
    }
   ],
   "source": [
    "# This is a simple arithmetic expression to multiply then add integers\n",
    "\n",
    "(3*4)+5"
   ]
  },
  {
   "cell_type": "code",
   "execution_count": 2,
   "id": "48935221-df98-4a2d-8a91-74ffd2762574",
   "metadata": {},
   "outputs": [
    {
     "data": {
      "text/plain": [
       "3.3333333333333335"
      ]
     },
     "execution_count": 2,
     "metadata": {},
     "output_type": "execute_result"
    }
   ],
   "source": [
    "# This will convert 200 minutes to hours by dividing by 60\n",
    "\n",
    "200/60"
   ]
  },
  {
   "cell_type": "markdown",
   "id": "832d5538-7a88-4b90-a8b0-9ef06f655079",
   "metadata": {},
   "source": [
    "## Author ##\n",
    "William Melhuish"
   ]
  },
  {
   "cell_type": "code",
   "execution_count": null,
   "id": "1ad836c3-9dea-4104-bffd-61b6c2bea48c",
   "metadata": {},
   "outputs": [],
   "source": []
  }
 ],
 "metadata": {
  "kernelspec": {
   "display_name": "Python 3 (ipykernel)",
   "language": "python",
   "name": "python3"
  },
  "language_info": {
   "codemirror_mode": {
    "name": "ipython",
    "version": 3
   },
   "file_extension": ".py",
   "mimetype": "text/x-python",
   "name": "python",
   "nbconvert_exporter": "python",
   "pygments_lexer": "ipython3",
   "version": "3.12.8"
  }
 },
 "nbformat": 4,
 "nbformat_minor": 5
}
